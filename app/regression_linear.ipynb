{
 "cells": [
  {
   "cell_type": "markdown",
   "metadata": {},
   "source": [
    "### Dépendances"
   ]
  },
  {
   "cell_type": "code",
   "execution_count": 4,
   "metadata": {},
   "outputs": [],
   "source": [
    "import pandas as pd\n",
    "from api import population_df_conso"
   ]
  },
  {
   "cell_type": "markdown",
   "metadata": {},
   "source": [
    "### Import de la donnée"
   ]
  },
  {
   "cell_type": "code",
   "execution_count": 6,
   "metadata": {},
   "outputs": [
    {
     "data": {
      "text/html": [
       "<div>\n",
       "<style scoped>\n",
       "    .dataframe tbody tr th:only-of-type {\n",
       "        vertical-align: middle;\n",
       "    }\n",
       "\n",
       "    .dataframe tbody tr th {\n",
       "        vertical-align: top;\n",
       "    }\n",
       "\n",
       "    .dataframe thead th {\n",
       "        text-align: right;\n",
       "    }\n",
       "</style>\n",
       "<table border=\"1\" class=\"dataframe\">\n",
       "  <thead>\n",
       "    <tr style=\"text-align: right;\">\n",
       "      <th></th>\n",
       "      <th>annee</th>\n",
       "      <th>population_totale</th>\n",
       "      <th>consommation_mwh</th>\n",
       "    </tr>\n",
       "  </thead>\n",
       "  <tbody>\n",
       "    <tr>\n",
       "      <th>0</th>\n",
       "      <td>2012</td>\n",
       "      <td>825035</td>\n",
       "      <td>2465076.0</td>\n",
       "    </tr>\n",
       "    <tr>\n",
       "      <th>1</th>\n",
       "      <td>2013</td>\n",
       "      <td>829903</td>\n",
       "      <td>2560392.0</td>\n",
       "    </tr>\n",
       "    <tr>\n",
       "      <th>2</th>\n",
       "      <td>2014</td>\n",
       "      <td>837617</td>\n",
       "      <td>2554701.0</td>\n",
       "    </tr>\n",
       "    <tr>\n",
       "      <th>3</th>\n",
       "      <td>2015</td>\n",
       "      <td>843617</td>\n",
       "      <td>2636993.0</td>\n",
       "    </tr>\n",
       "    <tr>\n",
       "      <th>4</th>\n",
       "      <td>2016</td>\n",
       "      <td>844741</td>\n",
       "      <td>2708529.0</td>\n",
       "    </tr>\n",
       "    <tr>\n",
       "      <th>5</th>\n",
       "      <td>2017</td>\n",
       "      <td>852657</td>\n",
       "      <td>2676543.0</td>\n",
       "    </tr>\n",
       "    <tr>\n",
       "      <th>6</th>\n",
       "      <td>2018</td>\n",
       "      <td>860896</td>\n",
       "      <td>2726742.0</td>\n",
       "    </tr>\n",
       "    <tr>\n",
       "      <th>7</th>\n",
       "      <td>2019</td>\n",
       "      <td>862814</td>\n",
       "      <td>2748162.0</td>\n",
       "    </tr>\n",
       "  </tbody>\n",
       "</table>\n",
       "</div>"
      ],
      "text/plain": [
       "  annee  population_totale  consommation_mwh\n",
       "0  2012             825035         2465076.0\n",
       "1  2013             829903         2560392.0\n",
       "2  2014             837617         2554701.0\n",
       "3  2015             843617         2636993.0\n",
       "4  2016             844741         2708529.0\n",
       "5  2017             852657         2676543.0\n",
       "6  2018             860896         2726742.0\n",
       "7  2019             862814         2748162.0"
      ]
     },
     "execution_count": 6,
     "metadata": {},
     "output_type": "execute_result"
    }
   ],
   "source": [
    "#df_calc_population.head()\n",
    "#df_calc_population = pd.read_csv('./resultat_fusion.csv', sep=\",\", na_values=\"-\")\n",
    "df_calc_population = population_df_conso\n",
    "df_calc_population \n"
   ]
  },
  {
   "cell_type": "markdown",
   "metadata": {},
   "source": [
    "# Modelisation"
   ]
  },
  {
   "cell_type": "code",
   "execution_count": 7,
   "metadata": {},
   "outputs": [
    {
     "name": "stderr",
     "output_type": "stream",
     "text": [
      "c:\\Users\\gael.lisador\\AppData\\Local\\anaconda3\\Lib\\site-packages\\sklearn\\utils\\validation.py:606: FutureWarning: is_sparse is deprecated and will be removed in a future version. Check `isinstance(dtype, pd.SparseDtype)` instead.\n",
      "  if is_sparse(pd_dtype):\n",
      "c:\\Users\\gael.lisador\\AppData\\Local\\anaconda3\\Lib\\site-packages\\sklearn\\utils\\validation.py:615: FutureWarning: is_sparse is deprecated and will be removed in a future version. Check `isinstance(dtype, pd.SparseDtype)` instead.\n",
      "  if is_sparse(pd_dtype) or not is_extension_array_dtype(pd_dtype):\n",
      "c:\\Users\\gael.lisador\\AppData\\Local\\anaconda3\\Lib\\site-packages\\sklearn\\utils\\validation.py:606: FutureWarning: is_sparse is deprecated and will be removed in a future version. Check `isinstance(dtype, pd.SparseDtype)` instead.\n",
      "  if is_sparse(pd_dtype):\n",
      "c:\\Users\\gael.lisador\\AppData\\Local\\anaconda3\\Lib\\site-packages\\sklearn\\utils\\validation.py:615: FutureWarning: is_sparse is deprecated and will be removed in a future version. Check `isinstance(dtype, pd.SparseDtype)` instead.\n",
      "  if is_sparse(pd_dtype) or not is_extension_array_dtype(pd_dtype):\n",
      "c:\\Users\\gael.lisador\\AppData\\Local\\anaconda3\\Lib\\site-packages\\sklearn\\utils\\validation.py:606: FutureWarning: is_sparse is deprecated and will be removed in a future version. Check `isinstance(dtype, pd.SparseDtype)` instead.\n",
      "  if is_sparse(pd_dtype):\n",
      "c:\\Users\\gael.lisador\\AppData\\Local\\anaconda3\\Lib\\site-packages\\sklearn\\utils\\validation.py:615: FutureWarning: is_sparse is deprecated and will be removed in a future version. Check `isinstance(dtype, pd.SparseDtype)` instead.\n",
      "  if is_sparse(pd_dtype) or not is_extension_array_dtype(pd_dtype):\n",
      "c:\\Users\\gael.lisador\\AppData\\Local\\anaconda3\\Lib\\site-packages\\sklearn\\utils\\validation.py:606: FutureWarning: is_sparse is deprecated and will be removed in a future version. Check `isinstance(dtype, pd.SparseDtype)` instead.\n",
      "  if is_sparse(pd_dtype):\n",
      "c:\\Users\\gael.lisador\\AppData\\Local\\anaconda3\\Lib\\site-packages\\sklearn\\utils\\validation.py:615: FutureWarning: is_sparse is deprecated and will be removed in a future version. Check `isinstance(dtype, pd.SparseDtype)` instead.\n",
      "  if is_sparse(pd_dtype) or not is_extension_array_dtype(pd_dtype):\n",
      "c:\\Users\\gael.lisador\\AppData\\Local\\anaconda3\\Lib\\site-packages\\sklearn\\utils\\validation.py:606: FutureWarning: is_sparse is deprecated and will be removed in a future version. Check `isinstance(dtype, pd.SparseDtype)` instead.\n",
      "  if is_sparse(pd_dtype):\n",
      "c:\\Users\\gael.lisador\\AppData\\Local\\anaconda3\\Lib\\site-packages\\sklearn\\utils\\validation.py:615: FutureWarning: is_sparse is deprecated and will be removed in a future version. Check `isinstance(dtype, pd.SparseDtype)` instead.\n",
      "  if is_sparse(pd_dtype) or not is_extension_array_dtype(pd_dtype):\n"
     ]
    },
    {
     "name": "stdout",
     "output_type": "stream",
     "text": [
      "Mean Squared Error: 724815816.1793773\n",
      "R-squared: 0.7850973621052517\n"
     ]
    },
    {
     "data": {
      "image/png": "[encoded data removed]",
      "text/plain": [
       "<Figure size 640x480 with 1 Axes>"
      ]
     },
     "metadata": {},
     "output_type": "display_data"
    }
   ],
   "source": [
    "import pandas as pd\n",
    "from sklearn.model_selection import train_test_split\n",
    "from sklearn.linear_model import LinearRegression\n",
    "from sklearn.metrics import mean_squared_error, r2_score\n",
    "import matplotlib.pyplot as plt\n",
    "\n",
    "# Assumez que votre DataFrame est appelé df\n",
    "# Assurez-vous que les colonnes `annee`, `population_totale`, et `consommation_mwh` existent dans votre DataFrame\n",
    "\n",
    "# Sélectionnez les colonnes pertinentes\n",
    "data = df_calc_population[['annee', 'population_totale', 'consommation_mwh']]\n",
    "\n",
    "# Supprimez les lignes avec des valeurs manquantes\n",
    "data = data.dropna()\n",
    "\n",
    "# Définissez l'année comme index\n",
    "data.set_index('annee', inplace=True)\n",
    "\n",
    "# Séparez les données en variables explicatives (X) et la variable cible (y)\n",
    "X = data[['population_totale']]\n",
    "y = data['consommation_mwh']\n",
    "\n",
    "# Divisez les données en ensembles d'entraînement et de test\n",
    "X_train, X_test, y_train, y_test = train_test_split(X, y, test_size=0.2, random_state=42)\n",
    "\n",
    "# Initialisez le modèle de régression linéaire\n",
    "model = LinearRegression()\n",
    "\n",
    "# Entraînez le modèle sur l'ensemble d'entraînement\n",
    "model.fit(X_train, y_train)\n",
    "\n",
    "# Faites des prédictions sur l'ensemble de test\n",
    "y_pred = model.predict(X_test)\n",
    "\n",
    "# Évaluez les performances du modèle\n",
    "mse = mean_squared_error(y_test, y_pred)\n",
    "r2 = r2_score(y_test, y_pred)\n",
    "\n",
    "# Affichez les résultats\n",
    "print(f'Mean Squared Error: {mse}')\n",
    "print(f'R-squared: {r2}')\n",
    "\n",
    "# Tracez les prédictions par rapport aux valeurs réelles\n",
    "plt.scatter(X_test, y_test, color='black')\n",
    "plt.plot(X_test, y_pred, color='blue', linewidth=3)\n",
    "plt.xlabel('Population Totale')\n",
    "plt.ylabel('Consommation MWh')\n",
    "plt.title('Régression Linéaire : Population Totale vs. Consommation MWh')\n",
    "plt.show()\n"
   ]
  },
  {
   "cell_type": "code",
   "execution_count": 8,
   "metadata": {},
   "outputs": [
    {
     "name": "stdout",
     "output_type": "stream",
     "text": [
      "RangeIndex(start=0, stop=8, step=1)\n"
     ]
    }
   ],
   "source": [
    "print(df_calc_population.index)\n"
   ]
  },
  {
   "cell_type": "code",
   "execution_count": 9,
   "metadata": {},
   "outputs": [
    {
     "name": "stdout",
     "output_type": "stream",
     "text": [
      "Mean Squared Error: 724815816.1793773\n",
      "R-squared: 0.7850973621052517\n",
      "Prédiction de consommation pour 2030: 65324774097.725395\n"
     ]
    },
    {
     "name": "stderr",
     "output_type": "stream",
     "text": [
      "c:\\Users\\gael.lisador\\AppData\\Local\\anaconda3\\Lib\\site-packages\\sklearn\\utils\\validation.py:606: FutureWarning: is_sparse is deprecated and will be removed in a future version. Check `isinstance(dtype, pd.SparseDtype)` instead.\n",
      "  if is_sparse(pd_dtype):\n",
      "c:\\Users\\gael.lisador\\AppData\\Local\\anaconda3\\Lib\\site-packages\\sklearn\\utils\\validation.py:615: FutureWarning: is_sparse is deprecated and will be removed in a future version. Check `isinstance(dtype, pd.SparseDtype)` instead.\n",
      "  if is_sparse(pd_dtype) or not is_extension_array_dtype(pd_dtype):\n",
      "c:\\Users\\gael.lisador\\AppData\\Local\\anaconda3\\Lib\\site-packages\\sklearn\\utils\\validation.py:606: FutureWarning: is_sparse is deprecated and will be removed in a future version. Check `isinstance(dtype, pd.SparseDtype)` instead.\n",
      "  if is_sparse(pd_dtype):\n",
      "c:\\Users\\gael.lisador\\AppData\\Local\\anaconda3\\Lib\\site-packages\\sklearn\\utils\\validation.py:615: FutureWarning: is_sparse is deprecated and will be removed in a future version. Check `isinstance(dtype, pd.SparseDtype)` instead.\n",
      "  if is_sparse(pd_dtype) or not is_extension_array_dtype(pd_dtype):\n",
      "c:\\Users\\gael.lisador\\AppData\\Local\\anaconda3\\Lib\\site-packages\\sklearn\\utils\\validation.py:606: FutureWarning: is_sparse is deprecated and will be removed in a future version. Check `isinstance(dtype, pd.SparseDtype)` instead.\n",
      "  if is_sparse(pd_dtype):\n",
      "c:\\Users\\gael.lisador\\AppData\\Local\\anaconda3\\Lib\\site-packages\\sklearn\\utils\\validation.py:615: FutureWarning: is_sparse is deprecated and will be removed in a future version. Check `isinstance(dtype, pd.SparseDtype)` instead.\n",
      "  if is_sparse(pd_dtype) or not is_extension_array_dtype(pd_dtype):\n",
      "c:\\Users\\gael.lisador\\AppData\\Local\\anaconda3\\Lib\\site-packages\\sklearn\\utils\\validation.py:606: FutureWarning: is_sparse is deprecated and will be removed in a future version. Check `isinstance(dtype, pd.SparseDtype)` instead.\n",
      "  if is_sparse(pd_dtype):\n",
      "c:\\Users\\gael.lisador\\AppData\\Local\\anaconda3\\Lib\\site-packages\\sklearn\\utils\\validation.py:615: FutureWarning: is_sparse is deprecated and will be removed in a future version. Check `isinstance(dtype, pd.SparseDtype)` instead.\n",
      "  if is_sparse(pd_dtype) or not is_extension_array_dtype(pd_dtype):\n",
      "c:\\Users\\gael.lisador\\AppData\\Local\\anaconda3\\Lib\\site-packages\\sklearn\\utils\\validation.py:606: FutureWarning: is_sparse is deprecated and will be removed in a future version. Check `isinstance(dtype, pd.SparseDtype)` instead.\n",
      "  if is_sparse(pd_dtype):\n",
      "c:\\Users\\gael.lisador\\AppData\\Local\\anaconda3\\Lib\\site-packages\\sklearn\\utils\\validation.py:615: FutureWarning: is_sparse is deprecated and will be removed in a future version. Check `isinstance(dtype, pd.SparseDtype)` instead.\n",
      "  if is_sparse(pd_dtype) or not is_extension_array_dtype(pd_dtype):\n",
      "c:\\Users\\gael.lisador\\AppData\\Local\\anaconda3\\Lib\\site-packages\\sklearn\\utils\\validation.py:606: FutureWarning: is_sparse is deprecated and will be removed in a future version. Check `isinstance(dtype, pd.SparseDtype)` instead.\n",
      "  if is_sparse(pd_dtype):\n",
      "c:\\Users\\gael.lisador\\AppData\\Local\\anaconda3\\Lib\\site-packages\\sklearn\\utils\\validation.py:615: FutureWarning: is_sparse is deprecated and will be removed in a future version. Check `isinstance(dtype, pd.SparseDtype)` instead.\n",
      "  if is_sparse(pd_dtype) or not is_extension_array_dtype(pd_dtype):\n"
     ]
    }
   ],
   "source": [
    "# Supposons que vous avez déjà chargé vos données dans df_calc_population\n",
    "\n",
    "# Sélectionnez les colonnes pertinentes\n",
    "data = df_calc_population[['annee', 'population_totale', 'consommation_mwh']]\n",
    "data = data.dropna()\n",
    "\n",
    "# Divisez les données en ensemble d'entraînement et ensemble de test\n",
    "X = data[['population_totale']]\n",
    "y = data['consommation_mwh']\n",
    "X_train, X_test, y_train, y_test = train_test_split(X, y, test_size=0.2, random_state=42)\n",
    "\n",
    "# Créez et entraînez le modèle de régression linéaire\n",
    "model = LinearRegression()\n",
    "model.fit(X_train, y_train)\n",
    "\n",
    "# Faites des prédictions sur l'ensemble de test\n",
    "y_pred = model.predict(X_test)\n",
    "\n",
    "# Évaluez les performances du modèle\n",
    "mse = mean_squared_error(y_test, y_pred)\n",
    "r2 = r2_score(y_test, y_pred)\n",
    "\n",
    "print(f'Mean Squared Error: {mse}')\n",
    "print(f'R-squared: {r2}')\n",
    "\n",
    "# Utilisez le modèle pour faire des prédictions pour l'année 2030\n",
    "df_2030 = pd.DataFrame({'population_totale': [9000000000]})\n",
    "predictions_2030 = model.predict(df_2030)\n",
    "print(f'Prédiction de consommation pour 2030: {predictions_2030[0]}')\n"
   ]
  },
  {
   "cell_type": "code",
   "execution_count": 13,
   "metadata": {},
   "outputs": [
    {
     "data": {
      "text/plain": [
       "2012"
      ]
     },
     "execution_count": 13,
     "metadata": {},
     "output_type": "execute_result"
    }
   ],
   "source": [
    "\n",
    "# Supposons que vous ayez déjà le DataFrame df_predictions\n",
    "df_calc_population['annee'] = df_calc_population['annee'].astype(int)\n",
    "next_year = df_calc_population['annee'].iloc[0]\n",
    "\n",
    "#next_year = last_year + 1\n",
    "next_year\n",
    "#next_year = population['annee'].astype(str).unique()\n"
   ]
  },
  {
   "cell_type": "code",
   "execution_count": 14,
   "metadata": {},
   "outputs": [
    {
     "name": "stdout",
     "output_type": "stream",
     "text": [
      "    annee\n",
      "0    2012\n",
      "1    2013\n",
      "2    2014\n",
      "3    2015\n",
      "4    2016\n",
      "5    2017\n",
      "6    2018\n",
      "7    2019\n",
      "8    2020\n",
      "9    2021\n",
      "10   2022\n",
      "11   2023\n",
      "12   2024\n",
      "13   2025\n",
      "14   2026\n",
      "15   2027\n",
      "16   2028\n",
      "17   2029\n",
      "18   2030\n"
     ]
    }
   ],
   "source": [
    "# Enregistrez le DataFrame des prédictions dans un fichier CSV\n",
    "# Créez un DataFrame pour les années de 2012 à 2030\n",
    "\n",
    "years = list(range(next_year, 2031))\n",
    "df_predictions = pd.DataFrame({'annee': years})\n",
    "\n",
    "df_predictions.to_csv('predictions_2012_2030.csv', index=False)\n",
    "\n",
    "# Affichez le DataFrame des prédictions\n",
    "print(df_predictions)\n",
    "\n"
   ]
  },
  {
   "cell_type": "code",
   "execution_count": 16,
   "metadata": {},
   "outputs": [
    {
     "name": "stdout",
     "output_type": "stream",
     "text": [
      "Prédiction de consommation pour 2030: 2489403.7718948037\n"
     ]
    },
    {
     "name": "stderr",
     "output_type": "stream",
     "text": [
      "c:\\Users\\gael.lisador\\AppData\\Local\\anaconda3\\Lib\\site-packages\\sklearn\\utils\\validation.py:606: FutureWarning: is_sparse is deprecated and will be removed in a future version. Check `isinstance(dtype, pd.SparseDtype)` instead.\n",
      "  if is_sparse(pd_dtype):\n",
      "c:\\Users\\gael.lisador\\AppData\\Local\\anaconda3\\Lib\\site-packages\\sklearn\\utils\\validation.py:615: FutureWarning: is_sparse is deprecated and will be removed in a future version. Check `isinstance(dtype, pd.SparseDtype)` instead.\n",
      "  if is_sparse(pd_dtype) or not is_extension_array_dtype(pd_dtype):\n",
      "c:\\Users\\gael.lisador\\AppData\\Local\\anaconda3\\Lib\\site-packages\\sklearn\\utils\\validation.py:606: FutureWarning: is_sparse is deprecated and will be removed in a future version. Check `isinstance(dtype, pd.SparseDtype)` instead.\n",
      "  if is_sparse(pd_dtype):\n",
      "c:\\Users\\gael.lisador\\AppData\\Local\\anaconda3\\Lib\\site-packages\\sklearn\\utils\\validation.py:615: FutureWarning: is_sparse is deprecated and will be removed in a future version. Check `isinstance(dtype, pd.SparseDtype)` instead.\n",
      "  if is_sparse(pd_dtype) or not is_extension_array_dtype(pd_dtype):\n",
      "c:\\Users\\gael.lisador\\AppData\\Local\\anaconda3\\Lib\\site-packages\\sklearn\\utils\\validation.py:606: FutureWarning: is_sparse is deprecated and will be removed in a future version. Check `isinstance(dtype, pd.SparseDtype)` instead.\n",
      "  if is_sparse(pd_dtype):\n",
      "c:\\Users\\gael.lisador\\AppData\\Local\\anaconda3\\Lib\\site-packages\\sklearn\\utils\\validation.py:615: FutureWarning: is_sparse is deprecated and will be removed in a future version. Check `isinstance(dtype, pd.SparseDtype)` instead.\n",
      "  if is_sparse(pd_dtype) or not is_extension_array_dtype(pd_dtype):\n",
      "c:\\Users\\gael.lisador\\AppData\\Local\\anaconda3\\Lib\\site-packages\\sklearn\\utils\\validation.py:606: FutureWarning: is_sparse is deprecated and will be removed in a future version. Check `isinstance(dtype, pd.SparseDtype)` instead.\n",
      "  if is_sparse(pd_dtype):\n",
      "c:\\Users\\gael.lisador\\AppData\\Local\\anaconda3\\Lib\\site-packages\\sklearn\\utils\\validation.py:615: FutureWarning: is_sparse is deprecated and will be removed in a future version. Check `isinstance(dtype, pd.SparseDtype)` instead.\n",
      "  if is_sparse(pd_dtype) or not is_extension_array_dtype(pd_dtype):\n",
      "c:\\Users\\gael.lisador\\AppData\\Local\\anaconda3\\Lib\\site-packages\\sklearn\\utils\\validation.py:606: FutureWarning: is_sparse is deprecated and will be removed in a future version. Check `isinstance(dtype, pd.SparseDtype)` instead.\n",
      "  if is_sparse(pd_dtype):\n",
      "c:\\Users\\gael.lisador\\AppData\\Local\\anaconda3\\Lib\\site-packages\\sklearn\\utils\\validation.py:615: FutureWarning: is_sparse is deprecated and will be removed in a future version. Check `isinstance(dtype, pd.SparseDtype)` instead.\n",
      "  if is_sparse(pd_dtype) or not is_extension_array_dtype(pd_dtype):\n",
      "c:\\Users\\gael.lisador\\AppData\\Local\\anaconda3\\Lib\\site-packages\\sklearn\\utils\\validation.py:606: FutureWarning: is_sparse is deprecated and will be removed in a future version. Check `isinstance(dtype, pd.SparseDtype)` instead.\n",
      "  if is_sparse(pd_dtype):\n",
      "c:\\Users\\gael.lisador\\AppData\\Local\\anaconda3\\Lib\\site-packages\\sklearn\\utils\\validation.py:615: FutureWarning: is_sparse is deprecated and will be removed in a future version. Check `isinstance(dtype, pd.SparseDtype)` instead.\n",
      "  if is_sparse(pd_dtype) or not is_extension_array_dtype(pd_dtype):\n"
     ]
    }
   ],
   "source": [
    "# Supposons que vous avez déjà chargé vos données dans df_calc_population\n",
    "\n",
    "# Sélectionnez les colonnes pertinentes\n",
    "data = df_calc_population[['annee', 'population_totale', 'consommation_mwh']]\n",
    "data = data.dropna()\n",
    "\n",
    "# Divisez les données en ensemble d'entraînement et ensemble de test\n",
    "X = data[['population_totale']]\n",
    "y = data['consommation_mwh']\n",
    "X_train, X_test, y_train, y_test = train_test_split(X, y, test_size=0.2, random_state=42)\n",
    "\n",
    "# Supprimez les valeurs manquantes dans l'ensemble d'entraînement\n",
    "X_train = X_train.dropna()\n",
    "y_train = y_train.dropna()\n",
    "\n",
    "# Créez et entraînez le modèle de régression linéaire\n",
    "model = LinearRegression()\n",
    "model.fit(X_train, y_train)\n",
    "\n",
    "# Faites des prédictions sur l'ensemble de test\n",
    "y_pred = model.predict(X_test)\n",
    "\n",
    "# Évaluez les performances du modèle\n",
    "mse = mean_squared_error(y_test, y_pred)\n",
    "r2 = r2_score(y_test, y_pred)\n",
    "\n",
    "#print(f'Mean Squared Error: {mse}')\n",
    "#print(f'R-squared: {r2}')\n",
    "\n",
    "# Utilisez le modèle pour faire des prédictions pour l'année 2030\n",
    "df_2030 = pd.DataFrame({'population_totale': df_calc_population['population_totale']})\n",
    "predictions_2030 = model.predict(df_2030)\n",
    "print(f'Prédiction de consommation pour 2030: {predictions_2030[0]}')\n",
    "\n"
   ]
  },
  {
   "cell_type": "markdown",
   "metadata": {},
   "source": [
    "cission ici"
   ]
  },
  {
   "cell_type": "code",
   "execution_count": null,
   "metadata": {},
   "outputs": [],
   "source": []
  },
  {
   "cell_type": "markdown",
   "metadata": {},
   "source": [
    "findus"
   ]
  },
  {
   "cell_type": "code",
   "execution_count": 22,
   "metadata": {},
   "outputs": [
    {
     "name": "stdout",
     "output_type": "stream",
     "text": [
      "   annee  population_totale  consommation_mwh\n",
      "0   2012      825035.000000      2.489404e+06\n",
      "1   2013      833285.350000      2.549291e+06\n",
      "2   2014      841618.203500      2.609776e+06\n",
      "3   2015      850034.385535      2.670867e+06\n",
      "4   2016      858534.729390      2.732568e+06\n"
     ]
    },
    {
     "name": "stderr",
     "output_type": "stream",
     "text": [
      "c:\\Users\\gael.lisador\\AppData\\Local\\anaconda3\\Lib\\site-packages\\sklearn\\utils\\validation.py:606: FutureWarning: is_sparse is deprecated and will be removed in a future version. Check `isinstance(dtype, pd.SparseDtype)` instead.\n",
      "  if is_sparse(pd_dtype):\n",
      "c:\\Users\\gael.lisador\\AppData\\Local\\anaconda3\\Lib\\site-packages\\sklearn\\utils\\validation.py:615: FutureWarning: is_sparse is deprecated and will be removed in a future version. Check `isinstance(dtype, pd.SparseDtype)` instead.\n",
      "  if is_sparse(pd_dtype) or not is_extension_array_dtype(pd_dtype):\n",
      "c:\\Users\\gael.lisador\\AppData\\Local\\anaconda3\\Lib\\site-packages\\sklearn\\utils\\validation.py:606: FutureWarning: is_sparse is deprecated and will be removed in a future version. Check `isinstance(dtype, pd.SparseDtype)` instead.\n",
      "  if is_sparse(pd_dtype):\n",
      "c:\\Users\\gael.lisador\\AppData\\Local\\anaconda3\\Lib\\site-packages\\sklearn\\utils\\validation.py:615: FutureWarning: is_sparse is deprecated and will be removed in a future version. Check `isinstance(dtype, pd.SparseDtype)` instead.\n",
      "  if is_sparse(pd_dtype) or not is_extension_array_dtype(pd_dtype):\n",
      "c:\\Users\\gael.lisador\\AppData\\Local\\anaconda3\\Lib\\site-packages\\sklearn\\utils\\validation.py:606: FutureWarning: is_sparse is deprecated and will be removed in a future version. Check `isinstance(dtype, pd.SparseDtype)` instead.\n",
      "  if is_sparse(pd_dtype):\n",
      "c:\\Users\\gael.lisador\\AppData\\Local\\anaconda3\\Lib\\site-packages\\sklearn\\utils\\validation.py:615: FutureWarning: is_sparse is deprecated and will be removed in a future version. Check `isinstance(dtype, pd.SparseDtype)` instead.\n",
      "  if is_sparse(pd_dtype) or not is_extension_array_dtype(pd_dtype):\n"
     ]
    }
   ],
   "source": [
    "# Supposons que vous avez déjà chargé vos données dans df_calc_population\n",
    "\n",
    "# Sélectionnez les colonnes pertinentes\n",
    "data = df_calc_population[['annee', 'population_totale', 'consommation_mwh']]\n",
    "data = data.dropna()\n",
    "\n",
    "# Divisez les données en ensemble d'entraînement et ensemble de test\n",
    "X = data[['population_totale']]\n",
    "y = data['consommation_mwh']\n",
    "X_train, X_test, y_train, y_test = train_test_split(X, y, test_size=0.2, random_state=42)\n",
    "\n",
    "# Créez et entraînez le modèle de régression linéaire\n",
    "model = LinearRegression()\n",
    "model.fit(X_train, y_train)\n",
    "\n",
    "# Estimez la population pour chaque année de 2012 à 2030\n",
    "years = list(range(next_year, 2031))\n",
    "df_predictions = pd.DataFrame({'annee': years})\n",
    "\n",
    "# Utilisez une fonction pour estimer la population pour chaque année\n",
    "def estimate_population(year):\n",
    "    # Remplacez cette fonction par votre propre logique d'estimation\n",
    "    # Pour cet exemple, on suppose une croissance linéaire de la population\n",
    "    initial_population = X['population_totale'].iloc[0]\n",
    "    population_growth_rate = 0.01  # exemple de taux de croissance de 2% par an\n",
    "    estimated_population = initial_population * (1 + population_growth_rate) ** (year - 2012)\n",
    "    return estimated_population\n",
    "\n",
    "# Appliquez la fonction d'estimation pour chaque année\n",
    "df_predictions['population_totale'] = df_predictions['annee'].apply(estimate_population)\n",
    "\n",
    "# Faites des prédictions en utilisant le modèle\n",
    "if not df_predictions.empty:\n",
    "    df_predictions['consommation_mwh'] = model.predict(df_predictions[['population_totale']])\n",
    "else:\n",
    "    print(\"DataFrame df_predictions is empty. Unable to make predictions.\")\n",
    "\n",
    "# Enregistrez le DataFrame des prédictions dans un fichier CSV\n",
    "df_predictions.to_csv('predictions_2012_2030.csv', index=False)\n",
    "\n",
    "# Affichez le DataFrame des prédictions\n",
    "#print(df_predictions)\n",
    "\n",
    "\n",
    "\n",
    "\n",
    "print(df_predictions.head())  # Check the first few rows of df_predictions\n",
    "\n"
   ]
  },
  {
   "cell_type": "code",
   "execution_count": null,
   "metadata": {},
   "outputs": [],
   "source": []
  },
  {
   "cell_type": "code",
   "execution_count": null,
   "metadata": {},
   "outputs": [],
   "source": []
  }
 ],
 "metadata": {
  "kernelspec": {
   "display_name": "Python 3 (ipykernel)",
   "language": "python",
   "name": "python3"
  },
  "language_info": {
   "codemirror_mode": {
    "name": "ipython",
    "version": 3
   },
   "file_extension": ".py",
   "mimetype": "text/x-python",
   "name": "python",
   "nbconvert_exporter": "python",
   "pygments_lexer": "ipython3",
   "version": "3.11.5"
  }
 },
 "nbformat": 4,
 "nbformat_minor": 4
}
